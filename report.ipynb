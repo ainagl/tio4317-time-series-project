{
 "cells": [
  {
   "cell_type": "code",
   "execution_count": 1,
   "metadata": {},
   "outputs": [],
   "source": [
    "import matplotlib.pyplot as plt\n",
    "import numpy as np\n",
    "import pandas as pd\n",
    "import yfinance as yf\n",
    "\n",
    "from arch import arch_model\n",
    "from sklearn.model_selection import train_test_split\n",
    "from scipy.stats import chi2, jarque_bera\n",
    "from sklearn.metrics import mean_absolute_percentage_error, mean_squared_error\n",
    "from statsmodels.graphics.tsaplots import plot_acf, plot_pacf\n",
    "from statsmodels.stats.diagnostic import acorr_ljungbox\n",
    "from statsmodels.tsa.stattools import acf, adfuller\n",
    "from statsmodels.graphics.gofplots import qqplot\n",
    "from statsmodels.tsa.arima.model import ARIMA\n"
   ]
  },
  {
   "cell_type": "markdown",
   "metadata": {},
   "source": [
    "### Data Import"
   ]
  },
  {
   "cell_type": "code",
   "execution_count": 8,
   "metadata": {},
   "outputs": [
    {
     "name": "stdout",
     "output_type": "stream",
     "text": [
      "Data loaded successfully from data/AAPL.csv\n",
      "Data loaded successfully from data/MSFT.csv\n",
      "Data loaded successfully from data/GOOGL.csv\n",
      "Data loaded successfully from data/AMZN.csv\n",
      "Data loaded successfully from data/TSLA.csv\n",
      "                               AAPL       MSFT      GOOGL    AMZN      TSLA\n",
      "Date                                                                       \n",
      "2010-06-29 00:00:00-04:00  7.709079  17.675097  11.326808  5.4305  1.592667\n",
      "2010-06-30 00:00:00-04:00  7.569441  17.447613  11.094666  5.4630  1.588667\n",
      "2010-07-01 00:00:00-04:00  7.477657  17.561352  10.958523  5.5480  1.464000\n",
      "2010-07-02 00:00:00-04:00  7.431316  17.644762  10.885215  5.4570  1.280000\n",
      "2010-07-06 00:00:00-04:00  7.482172  18.061806  10.873248  5.5030  1.074000\n"
     ]
    }
   ],
   "source": [
    "import pandas as pd\n",
    "import yfinance as yf\n",
    "import os\n",
    "\n",
    "# Define the 5 stock tickers (can be randomized)\n",
    "tickers = [\"AAPL\", \"MSFT\", \"GOOGL\", \"AMZN\", \"TSLA\"]\n",
    "\n",
    "stock_data = {}\n",
    "\n",
    "for ticker in tickers:\n",
    "    csv_filepath = f\"data/{ticker}.csv\"  \n",
    "    try:\n",
    "        df = pd.read_csv(csv_filepath, index_col=\"Date\", parse_dates=True)\n",
    "        print(f\"Data loaded successfully from {csv_filepath}\")\n",
    "    except FileNotFoundError:\n",
    "        print(f\"Error: CSV file not found at {csv_filepath}. Downloading data from Yahoo Finance...\")\n",
    "        stock = yf.Ticker(ticker)\n",
    "        hist = stock.history(start=\"2010-01-01\", end=\"2025-03-07\")\n",
    "        df = pd.DataFrame(hist, columns=[\"Close\"])\n",
    "        df.to_csv(csv_filepath)\n",
    "        print(f\"Data for {ticker} downloaded and saved to {csv_filepath}\")\n",
    "    # Keep only the Close price\n",
    "    df.rename(columns={\"Close\": ticker}, inplace=True)\n",
    "    stock_data[ticker] = df[[ticker]]  \n",
    "\n",
    "\n",
    "df_combined = pd.concat(stock_data.values(), axis=1)\n",
    "df_combined.dropna(inplace=True)\n",
    "\n",
    "print(df_combined.head())\n"
   ]
  },
  {
   "cell_type": "code",
   "execution_count": null,
   "metadata": {},
   "outputs": [],
   "source": []
  }
 ],
 "metadata": {
  "kernelspec": {
   "display_name": ".venv",
   "language": "python",
   "name": "python3"
  },
  "language_info": {
   "codemirror_mode": {
    "name": "ipython",
    "version": 3
   },
   "file_extension": ".py",
   "mimetype": "text/x-python",
   "name": "python",
   "nbconvert_exporter": "python",
   "pygments_lexer": "ipython3",
   "version": "3.11.1"
  }
 },
 "nbformat": 4,
 "nbformat_minor": 2
}
